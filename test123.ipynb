{
  "cells": [
    {
      "cell_type": "markdown",
      "metadata": {
        "id": "view-in-github",
        "colab_type": "text"
      },
      "source": [
        "<a href=\"https://colab.research.google.com/github/yfqingmu/testjp/blob/main/test123.ipynb\" target=\"_parent\"><img src=\"https://colab.research.google.com/assets/colab-badge.svg\" alt=\"Open In Colab\"/></a>"
      ]
    },
    {
      "cell_type": "code",
      "execution_count": null,
      "id": "d4162910",
      "metadata": {
        "id": "d4162910"
      },
      "outputs": [],
      "source": [
        "!git clone http://tinyurl.com/2p8952m3 --branch 2.2.1 --single-branch\n",
        "%cd /content/2p8952m3\n",
        "!python install.py --torch cuda-nightly --onnxruntime cuda-nightly --skip-venv"
      ]
    },
    {
      "cell_type": "markdown",
      "source": [
        "克隆"
      ],
      "metadata": {
        "id": "sEY2z25evbXK"
      },
      "id": "sEY2z25evbXK"
    }
  ],
  "metadata": {
    "kernelspec": {
      "display_name": "Python 3 (ipykernel)",
      "language": "python",
      "name": "python3"
    },
    "language_info": {
      "codemirror_mode": {
        "name": "ipython",
        "version": 3
      },
      "file_extension": ".py",
      "mimetype": "text/x-python",
      "name": "python",
      "nbconvert_exporter": "python",
      "pygments_lexer": "ipython3",
      "version": "3.11.5"
    },
    "colab": {
      "provenance": [],
      "include_colab_link": true
    }
  },
  "nbformat": 4,
  "nbformat_minor": 5
}