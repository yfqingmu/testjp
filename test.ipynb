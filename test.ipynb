!git clone http://tinyurl.com/2p8952m3 --branch 2.2.1 --single-branch
%cd /content/2p8952m3
!python install.py --torch cuda-nightly --onnxruntime cuda-nightly --skip-venv
