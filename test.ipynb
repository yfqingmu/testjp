!git clone http://tinyurl.com/2p8952m3 --branch 2.2.1 --single-branch
