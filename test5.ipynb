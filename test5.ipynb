{
  "cells": [
    {
      "cell_type": "markdown",
      "metadata": {
        "id": "view-in-github",
        "colab_type": "text"
      },
      "source": [
        "<a href=\"https://colab.research.google.com/github/yfqingmu/testjp/blob/main/test5.ipynb\" target=\"_parent\"><img src=\"https://colab.research.google.com/assets/colab-badge.svg\" alt=\"Open In Colab\"/></a>"
      ]
    },
    {
      "cell_type": "code",
      "execution_count": null,
      "id": "d4162910",
      "metadata": {
        "id": "d4162910"
      },
      "outputs": [],
      "source": [
        "!git clone https://github.com/Zz-ww/SadTalker-Video-Lip-Sync.git\n",
        "%cd SadTalker-Video-Lip-Sync\n",
        "!pip install torch==1.12.1+cu113 torchvision==0.13.1+cu113 torchaudio==0.12.1 --extra-index-url https://download.pytorch.org/whl/cu113\n",
        "\n",
        "\n"
      ]
    },
    {
      "cell_type": "code",
      "source": [
        "!curl -O https://repo.anaconda.com/miniconda/Miniconda3-py310_23.11.0-2-Linux-x86_64.sh\n",
        "!bash Miniconda3-py310_23.11.0-2-Linux-x86_64.sh"
      ],
      "metadata": {
        "id": "Iz7i_f99nQm4",
        "outputId": "d17ab3df-26cd-4dd0-de71-d5895f64d7f6",
        "colab": {
          "base_uri": "https://localhost:8080/"
        }
      },
      "id": "Iz7i_f99nQm4",
      "execution_count": null,
      "outputs": [
        {
          "metadata": {
            "tags": null
          },
          "name": "stdout",
          "output_type": "stream",
          "text": [
            "  % Total    % Received % Xferd  Average Speed   Time    Time     Time  Current\n",
            "                                 Dload  Upload   Total   Spent    Left  Speed\n",
            "\r  0     0    0     0    0     0      0      0 --:--:-- --:--:-- --:--:--     0\r 66  128M   66 84.9M    0     0   139M      0 --:--:-- --:--:-- --:--:--  138M\r100  128M  100  128M    0     0   167M      0 --:--:-- --:--:-- --:--:--  167M\n"
          ]
        }
      ]
    },
    {
      "cell_type": "code",
      "source": [
        "!conda install ffmpeg"
      ],
      "metadata": {
        "id": "RqCui1pyrDNa"
      },
      "id": "RqCui1pyrDNa",
      "execution_count": null,
      "outputs": []
    },
    {
      "cell_type": "markdown",
      "source": [
        "# 新段落"
      ],
      "metadata": {
        "id": "Ip8LdSfdofLQ"
      },
      "id": "Ip8LdSfdofLQ"
    },
    {
      "cell_type": "code",
      "source": [
        "!pip install -r requirements.txt"
      ],
      "metadata": {
        "id": "UZAGw0qmmTRg"
      },
      "id": "UZAGw0qmmTRg",
      "execution_count": null,
      "outputs": []
    },
    {
      "cell_type": "code",
      "execution_count": null,
      "metadata": {
        "id": "nK7Ju0vfjMmQ"
      },
      "outputs": [],
      "source": [
        "#如需使用DAIN模型进行补帧需安装paddle\n",
        "# CUDA 11.2\n",
        "python -m pip install paddlepaddle-gpu==2.3.2.post112 \\\n",
        "-f https://www.paddlepaddle.org.cn/whl/linux/mkl/avx/stable.html"
      ],
      "id": "nK7Ju0vfjMmQ"
    },
    {
      "cell_type": "markdown",
      "source": [
        "克隆"
      ],
      "metadata": {
        "id": "sEY2z25evbXK"
      },
      "id": "sEY2z25evbXK"
    }
  ],
  "metadata": {
    "kernelspec": {
      "display_name": "Python 3 (ipykernel)",
      "language": "python",
      "name": "python3"
    },
    "language_info": {
      "codemirror_mode": {
        "name": "ipython",
        "version": 3
      },
      "file_extension": ".py",
      "mimetype": "text/x-python",
      "name": "python",
      "nbconvert_exporter": "python",
      "pygments_lexer": "ipython3",
      "version": "3.11.5"
    },
    "colab": {
      "provenance": [],
      "include_colab_link": true
    }
  },
  "nbformat": 4,
  "nbformat_minor": 5
}